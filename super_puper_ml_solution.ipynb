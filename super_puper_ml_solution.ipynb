{
 "cells": [
  {
   "cell_type": "code",
   "execution_count": 6,
   "metadata": {},
   "outputs": [],
   "source": [
    "from sklearn.ensemble import RandomForestClassifier\n",
    "from sklearn.model_selection import TimeSeriesSplit\n",
    "\n",
    "from statsmodels.tsa.seasonal import seasonal_decompose\n",
    "from sklearn.model_selection import train_test_split\n",
    "import pandas as pd\n",
    "import numpy as np\n",
    "from statsmodels.tsa.arima.model import ARIMA\n",
    "from pmdarima import auto_arima\n",
    "from sklearn.metrics import mean_squared_error\n",
    "import seaborn as sns\n",
    "import matplotlib.pyplot as plt\n",
    "\n"
   ]
  },
  {
   "cell_type": "code",
   "execution_count": 7,
   "metadata": {},
   "outputs": [
    {
     "name": "stdout",
     "output_type": "stream",
     "text": [
      "    Season_n  Pts_n\n",
      "26      1988   38.0\n",
      "27      1989   43.0\n",
      "28      1990   38.0\n",
      "29      1991   34.0\n",
      "30      1992   43.0\n",
      "31      1993   42.0\n",
      "32      1994   43.0\n",
      "33      1995   48.0\n",
      "34      1996   43.0\n",
      "35      1999   28.0\n",
      "36      2001   53.0\n",
      "37      2002   50.0\n",
      "38      2003   55.0\n",
      "39      2004   60.0\n",
      "40      2005   68.0\n",
      "41      2006   71.0\n",
      "42      2007   64.0\n",
      "43      2008   70.0\n",
      "44      2009   63.0\n",
      "45      2010   58.0\n",
      "46      2011   50.0\n",
      "47      2012   50.0\n",
      "48      2013   63.0\n",
      "49      2014   76.0\n",
      "50      2015   52.0\n",
      "51      2016   72.0\n",
      "52      2017   58.0\n",
      "53      2018   59.0\n",
      "54      2019   70.0\n",
      "55      2020   77.0\n",
      "56      2021   70.0\n",
      "57      2022   49.0\n"
     ]
    }
   ],
   "source": [
    "df = pd.read_csv('./data/preprocessed_football.csv')\n",
    "df = df[df['Comp'] == 0]\n",
    "df = df[df['Squad'] == 5]\n",
    "df.drop(['Comp', 'LgRank', 'Attendance', 'Goalkeeper', 'Top Team Scorers', 'Top Team Goals', 'W', 'D', 'L', 'GF', 'GA', 'GD', 'MP', 'Squad'], axis=1, inplace=True)\n",
    "\n",
    "df.iloc[1:, :]\n",
    "df['Season_n'] = df['Season'].to_numpy()[::-1]\n",
    "df['Pts_n'] = df['Pts'].to_numpy()[::-1]\n",
    "df = df.iloc[:-1, :]\n",
    "df = df[['Season_n', 'Pts_n']]\n",
    "print(df)\n"
   ]
  },
  {
   "cell_type": "code",
   "execution_count": 8,
   "metadata": {},
   "outputs": [
    {
     "name": "stdout",
     "output_type": "stream",
     "text": [
      "Root Mean Squared Error for Fold: 9.780759955449394\n",
      "Root Mean Squared Error for Fold: 18.316941081373617\n"
     ]
    },
    {
     "name": "stderr",
     "output_type": "stream",
     "text": [
      "/Users/vladprotsenko/Documents/Small Data/venv/lib/python3.9/site-packages/statsmodels/tsa/base/tsa_model.py:836: ValueWarning: No supported index is available. Prediction results will be given with an integer index beginning at `start`.\n",
      "  return get_prediction_index(\n",
      "/Users/vladprotsenko/Documents/Small Data/venv/lib/python3.9/site-packages/statsmodels/tsa/base/tsa_model.py:836: FutureWarning: No supported index is available. In the next version, calling this method in a model without a supported index will result in an exception.\n",
      "  return get_prediction_index(\n",
      "/Users/vladprotsenko/Documents/Small Data/venv/lib/python3.9/site-packages/statsmodels/tsa/base/tsa_model.py:836: ValueWarning: No supported index is available. Prediction results will be given with an integer index beginning at `start`.\n",
      "  return get_prediction_index(\n",
      "/Users/vladprotsenko/Documents/Small Data/venv/lib/python3.9/site-packages/statsmodels/tsa/base/tsa_model.py:836: FutureWarning: No supported index is available. In the next version, calling this method in a model without a supported index will result in an exception.\n",
      "  return get_prediction_index(\n",
      "/Users/vladprotsenko/Documents/Small Data/venv/lib/python3.9/site-packages/statsmodels/tsa/base/tsa_model.py:836: ValueWarning: No supported index is available. Prediction results will be given with an integer index beginning at `start`.\n",
      "  return get_prediction_index(\n",
      "/Users/vladprotsenko/Documents/Small Data/venv/lib/python3.9/site-packages/statsmodels/tsa/base/tsa_model.py:836: FutureWarning: No supported index is available. In the next version, calling this method in a model without a supported index will result in an exception.\n",
      "  return get_prediction_index(\n",
      "/Users/vladprotsenko/Documents/Small Data/venv/lib/python3.9/site-packages/statsmodels/tsa/base/tsa_model.py:836: ValueWarning: No supported index is available. Prediction results will be given with an integer index beginning at `start`.\n",
      "  return get_prediction_index(\n",
      "/Users/vladprotsenko/Documents/Small Data/venv/lib/python3.9/site-packages/statsmodels/tsa/base/tsa_model.py:836: FutureWarning: No supported index is available. In the next version, calling this method in a model without a supported index will result in an exception.\n",
      "  return get_prediction_index(\n"
     ]
    },
    {
     "name": "stdout",
     "output_type": "stream",
     "text": [
      "Root Mean Squared Error for Fold: 4.996807590990892\n",
      "Root Mean Squared Error for Fold: 17.495668717640683\n",
      "Root Mean Squared Error for Fold: 9.9498743710662\n",
      "Average Root Mean Squared Error across all Folds: 9.9498743710662\n"
     ]
    },
    {
     "name": "stderr",
     "output_type": "stream",
     "text": [
      "/Users/vladprotsenko/Documents/Small Data/venv/lib/python3.9/site-packages/statsmodels/tsa/base/tsa_model.py:836: ValueWarning: No supported index is available. Prediction results will be given with an integer index beginning at `start`.\n",
      "  return get_prediction_index(\n",
      "/Users/vladprotsenko/Documents/Small Data/venv/lib/python3.9/site-packages/statsmodels/tsa/base/tsa_model.py:836: FutureWarning: No supported index is available. In the next version, calling this method in a model without a supported index will result in an exception.\n",
      "  return get_prediction_index(\n"
     ]
    }
   ],
   "source": [
    "n_splits = 5\n",
    "df, df_test = train_test_split(df, random_state=123, shuffle=False, test_size=0.15)\n",
    "tscv = TimeSeriesSplit(n_splits=n_splits)\n",
    "\n",
    "# Perform time series cross-validation\n",
    "for train_index, test_index in tscv.split(df):\n",
    "    train, test = df.iloc[train_index], df.iloc[test_index]\n",
    "\n",
    "    # Use auto_arima to automatically select the best SARIMAX model\n",
    "    model = auto_arima(train['Pts_n'], seasonal=True, m=1)  # Adjust m (seasonal period) accordingly\n",
    "\n",
    "    # Fit the model on the training data\n",
    "    fitted_model = model.fit(train['Pts_n'])\n",
    "\n",
    "    # Make predictions on the test set\n",
    "    predictions = fitted_model.predict(len(test))\n",
    "\n",
    "    # Calculate Mean Squared Error (MSE) as the evaluation metric\n",
    "    rmse = mean_squared_error(test['Pts_n'], predictions) ** 0.5\n",
    "\n",
    "    # Print or store the MSE for each fold\n",
    "    print(f'Root Mean Squared Error for Fold: {rmse}')\n",
    "\n",
    "# You can also calculate and print the average MSE across all folds\n",
    "average_rmse = np.mean(rmse)\n",
    "print(f'Average Root Mean Squared Error across all Folds: {average_rmse}')\n"
   ]
  },
  {
   "cell_type": "code",
   "execution_count": 9,
   "metadata": {},
   "outputs": [
    {
     "name": "stdout",
     "output_type": "stream",
     "text": [
      "(0, 1, 0)\n",
      "(0, 0, 0, 0)\n"
     ]
    }
   ],
   "source": [
    "print(fitted_model.order)\n",
    "print(fitted_model.seasonal_order)"
   ]
  },
  {
   "cell_type": "code",
   "execution_count": 17,
   "metadata": {},
   "outputs": [
    {
     "name": "stdout",
     "output_type": "stream",
     "text": [
      "27    58.0\n",
      "28    58.0\n",
      "29    58.0\n",
      "30    58.0\n",
      "31    58.0\n",
      "Name: predicted_mean, dtype: float64\n"
     ]
    },
    {
     "name": "stderr",
     "output_type": "stream",
     "text": [
      "/Users/vladprotsenko/Documents/Small Data/venv/lib/python3.9/site-packages/statsmodels/tsa/base/tsa_model.py:473: ValueWarning: An unsupported index was provided and will be ignored when e.g. forecasting.\n",
      "  self._init_dates(dates, freq)\n",
      "/Users/vladprotsenko/Documents/Small Data/venv/lib/python3.9/site-packages/statsmodels/tsa/base/tsa_model.py:473: ValueWarning: An unsupported index was provided and will be ignored when e.g. forecasting.\n",
      "  self._init_dates(dates, freq)\n",
      "/Users/vladprotsenko/Documents/Small Data/venv/lib/python3.9/site-packages/statsmodels/tsa/base/tsa_model.py:473: ValueWarning: An unsupported index was provided and will be ignored when e.g. forecasting.\n",
      "  self._init_dates(dates, freq)\n",
      "/Users/vladprotsenko/Documents/Small Data/venv/lib/python3.9/site-packages/statsmodels/tsa/base/tsa_model.py:836: ValueWarning: No supported index is available. Prediction results will be given with an integer index beginning at `start`.\n",
      "  return get_prediction_index(\n",
      "/Users/vladprotsenko/Documents/Small Data/venv/lib/python3.9/site-packages/statsmodels/tsa/base/tsa_model.py:836: FutureWarning: No supported index is available. In the next version, calling this method in a model without a supported index will result in an exception.\n",
      "  return get_prediction_index(\n"
     ]
    },
    {
     "data": {
      "text/plain": [
       "<Axes: >"
      ]
     },
     "execution_count": 17,
     "metadata": {},
     "output_type": "execute_result"
    },
    {
     "data": {
      "image/png": "[encoded data removed]",
      "text/plain": [
       "<Figure size 640x480 with 1 Axes>"
      ]
     },
     "metadata": {},
     "output_type": "display_data"
    }
   ],
   "source": [
    "model = ARIMA(df['Pts_n'], order=(0,1,0))\n",
    "model.initialize_approximate_diffuse()\n",
    "\n",
    "model = model.fit()\n",
    "\n",
    "res = model.forecast(steps=len(df_test))\n",
    "print(res)\n",
    "\n",
    "plt.figure()\n",
    "sns.lineplot(df_test['Pts_n'][-5:].tolist())\n",
    "sns.lineplot(res.tolist())"
   ]
  }
 ],
 "metadata": {
  "kernelspec": {
   "display_name": "venv",
   "language": "python",
   "name": "python3"
  },
  "language_info": {
   "codemirror_mode": {
    "name": "ipython",
    "version": 3
   },
   "file_extension": ".py",
   "mimetype": "text/x-python",
   "name": "python",
   "nbconvert_exporter": "python",
   "pygments_lexer": "ipython3",
   "version": "3.9.6"
  },
  "orig_nbformat": 4
 },
 "nbformat": 4,
 "nbformat_minor": 2
}
